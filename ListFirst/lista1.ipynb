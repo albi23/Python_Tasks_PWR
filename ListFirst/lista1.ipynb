{
 "cells": [
  {
   "cell_type": "markdown",
   "metadata": {},
   "source": [
    "# Lista 1\n",
    "\n",
    "## Kurs wybranego języka programowania (Python)\n",
    "\n",
    "Wszystkie rozwiązania proszę wpisać w tym notatniku poniżej treści zadań. Zadania z `*` to zadania dodatkowe."
   ]
  },
  {
   "cell_type": "markdown",
   "metadata": {},
   "source": [
    "## Zadanie 1 _(5pt)_\n",
    "\n",
    "Napisz funkcję, który wyświetla trójkąt Pascala o zadanej wysokości\n",
    "```\n",
    "                1\n",
    "              1   1\n",
    "            1   2   1\n",
    "          1   3   3   1\n",
    "        1   4   6   4   1\n",
    "      .....................\n",
    "```"
   ]
  },
  {
   "cell_type": "code",
   "execution_count": 3,
   "metadata": {},
   "outputs": [
    {
     "name": "stdout",
     "output_type": "stream",
     "text": [
      "      1 \n",
      "     1 1 \n",
      "    1 2 1 \n",
      "   1 3 3 1 \n",
      "  1 4 6 4 1 \n",
      " 1 5 10 10 5 1 \n"
     ]
    }
   ],
   "source": [
    "import scipy.special\n",
    "\n",
    "\n",
    "def pascal_triangle(n: int) -> None:\n",
    "    if n <= 0:\n",
    "        return\n",
    "\n",
    "    max_size_of_number: int = len(str((int(scipy.special.binom(n, int(n / 2))))))\n",
    "    for line in range(1, n + 1):\n",
    "        x = int(max_size_of_number * ((n / 2) - (line - 1)/2))\n",
    "        pattern_of_line: str = '{:^' + str(x) + '}'\n",
    "        print(pattern_of_line.format(' '), end='')\n",
    "        c: int = 1\n",
    "        for j in range(1, line + 1):\n",
    "            print(c, end=' ')\n",
    "            c = int(c * (line - j) / j)\n",
    "        print()\n",
    "    return None\n",
    "    pass\n",
    "\n",
    "pascal_triangle(6)"
   ]
  },
  {
   "cell_type": "markdown",
   "metadata": {},
   "source": [
    "## Zadanie 2 _(5pt)_\n",
    "\n",
    "Napisz funkcję `primes(n)` zwracająca listę liczb pierwszych nie większych niż $n$ np.\n",
    "\n",
    "```\n",
    "In [ ]:   primes(6)\n",
    "Out [ ]: [2, 3, 5]\n",
    "```"
   ]
  },
  {
   "cell_type": "code",
   "execution_count": 4,
   "metadata": {},
   "outputs": [
    {
     "name": "stdout",
     "output_type": "stream",
     "text": [
      "[2, 3, 5, 7, 11, 13, 17, 19, 23, 29, 31, 37, 41, 43, 47, 53, 59, 61, 67, 71, 73, 79, 83, 89, 97]\n"
     ]
    }
   ],
   "source": [
    "import math\n",
    "from typing import List\n",
    "\n",
    "def primes(n: int) -> List[int]:\n",
    "    primes_bool_array = [True] * (n + 1)\n",
    "    primes_bool_array[0] = primes_bool_array[1] = False\n",
    "\n",
    "    limit: int = int(math.sqrt(n))\n",
    "\n",
    "    for number in range(0, limit+1):\n",
    "        if primes_bool_array[number]:\n",
    "            i: int = number * number\n",
    "            while i <= n:\n",
    "                primes_bool_array[i] = False\n",
    "                i += number\n",
    "\n",
    "    primes_array: List[int] = []\n",
    "    for i in range(0, n+1):\n",
    "        if primes_bool_array[i]:\n",
    "            primes_array.append(i)\n",
    "\n",
    "    return primes_array\n",
    "    pass\n",
    "\n",
    "\n",
    "print(primes(100))\n"
   ]
  },
  {
   "cell_type": "markdown",
   "metadata": {},
   "source": [
    "## Zadanie 3 _(5pt)_\n",
    "\n",
    "Napisz funkcje, która usuwa wszystkie powtarzające się elementy z listy (tak, że każdy element występuje tylko raz) np. z listy `[1,1,2,2,2,3,3,5,5,5,4,4,4,0]` dostajemy `[1,2,3,5,4,0]`."
   ]
  },
  {
   "cell_type": "code",
   "execution_count": 6,
   "metadata": {
    "scrolled": true
   },
   "outputs": [
    {
     "name": "stdout",
     "output_type": "stream",
     "text": [
      "[-2, -1, 0, 1, 2, 4, 6, 8, 55]\n",
      "['a', 'b', 'c', 'd', 'f', 'h', 'w']\n",
      "[['a', 'b', 'f'], ['b', 'b', 'b'], ['b', 'b', 'e'], ['a', 'b', 'f'], ['c', 'c', 'f']]\n"
     ]
    }
   ],
   "source": [
    "from typing import List\n",
    "from typing import TypeVar\n",
    "T = TypeVar('T')  \n",
    "\n",
    "\n",
    "def make_without_repeats(generic_list: List[T]) -> List[T]:\n",
    "    if len(generic_list) == 0:\n",
    "        return generic_list\n",
    "    else:\n",
    "        array_set: List[T] = []\n",
    "        if isinstance(generic_list[0], list):\n",
    "            sorted(generic_list, key=lambda l: l[0])\n",
    "\n",
    "        else:\n",
    "            generic_list.sort()\n",
    "\n",
    "        previous: T = None\n",
    "        for i in range(0, len(generic_list)):\n",
    "            if generic_list[i] != previous:\n",
    "                array_set.append(generic_list[i])\n",
    "            previous = generic_list[i]\n",
    "\n",
    "    return array_set\n",
    "    pass\n",
    "\n",
    "\n",
    "print(make_without_repeats([1, 2, 4, 4, 4, 6, 8, 4, 2, 55, -1, -1, 6, 8, 0, -1, -2]))\n",
    "print(make_without_repeats(['a', 'b', 'c', 'd', 'a', 'b', 'c', 'd', 'a', 'b', 'c', 'd', 'h', 'h', 'w', 'f']))\n",
    "print(make_without_repeats(\n",
    "    [['a', 'b', 'f'], ['a', 'b', 'f'], ['b', 'b', 'b'], ['b', 'b', 'e'], ['a', 'b', 'f'], ['c', 'c', 'f']]))"
   ]
  },
  {
   "cell_type": "markdown",
   "metadata": {},
   "source": [
    "# Zadanie 4 _(10pt)_\n",
    "\n",
    "Napisz funkcję `prime_factors(n)`, która rozkłada $n$ na czynniki pierwsze i jako wynik wraca listę par $[(p_1,\\alpha_1), (p_2,\\alpha_2), \\ldots, (p_k, \\alpha_k)]$ taką, że $p_1^{\\alpha_1}p_2^{\\alpha_2}\\ldots p_k^{\\alpha_k}$.\n"
   ]
  },
  {
   "cell_type": "code",
   "execution_count": null,
   "metadata": {},
   "outputs": [],
   "source": [
    "import collections\n",
    "from typing import Dict\n",
    "\n",
    "\n",
    "def prime_factors(n: int) -> Dict[int, int]:\n",
    "    prime: int = 2\n",
    "    factors_map = {}\n",
    "    res = collections.ChainMap(factors_map)\n",
    "    while n >= prime * prime:\n",
    "        if n % prime == 0:\n",
    "            if res.get(prime) is not None:\n",
    "                factors_map[prime] += 1\n",
    "            else:\n",
    "                factors_map[prime] = 1\n",
    "            n = int(n / prime)\n",
    "        else:\n",
    "            prime += 1\n",
    "\n",
    "    if res.get(n) is not None:\n",
    "        factors_map[n] += 1\n",
    "    else:\n",
    "        factors_map[n] = 1\n",
    "    return factors_map\n",
    "    pass\n",
    "\n",
    "\n",
    "print(prime_factors(10616832000))"
   ]
  },
  {
   "cell_type": "markdown",
   "metadata": {},
   "source": [
    "## Zadanie 5 _(10pt)_\n",
    "\n",
    "Napisz funkcję `fraczero(n)` liczącą silnie $n!$ dla $n$ od $0$ do $10000$ oraz jako wynik wraca liczbę zer na końcu $n!$."
   ]
  },
  {
   "cell_type": "code",
   "execution_count": 6,
   "metadata": {},
   "outputs": [
    {
     "name": "stdout",
     "output_type": "stream",
     "text": [
      "249\n"
     ]
    }
   ],
   "source": [
    "import math\n",
    "import re\n",
    "from typing import List\n",
    "\n",
    "\n",
    "def fraczero(n: int) -> int:\n",
    "    if n >= 0 and n <= 1000:\n",
    "        result_array: List = re.findall(\"0+$\", str(math.factorial(n)))\n",
    "        if len(result_array) > 0:\n",
    "            return len(result_array[0])\n",
    "    return 0\n",
    "\n",
    "print(fraczero(1000))"
   ]
  },
  {
   "cell_type": "markdown",
   "metadata": {},
   "source": [
    "## Zadanie 6 _(10pt)_\n",
    "\n",
    "Napisz program, który generuje liczbę $20$ liczb losowych (rozkład jednostajny) od $1$ do $100$\n",
    "* Wyświetl listę wygenerowanych liczb\n",
    "* Wyświetl średnią\n",
    "* Wyświetl największą i najmniejszą wartość\n",
    "* Wyświetl drugą największą i drugą najmniejszą wartość na liście\n",
    "* Wyświetl ile jest liczb parzystych na liście\n",
    " "
   ]
  },
  {
   "cell_type": "code",
   "execution_count": 9,
   "metadata": {},
   "outputs": [
    {
     "name": "stdout",
     "output_type": "stream",
     "text": [
      "List:  [11, 35, 87, 47, 81, 26, 25, 38, 3, 13, 1, 38, 39, 77, 15, 88, 43, 55, 26, 77]\n",
      "Max :  88   second first_max  87\n",
      "Min :  1   second first_min  3\n",
      "Even count :  5   avg of numbers   41.25\n"
     ]
    }
   ],
   "source": [
    "import random\n",
    "from typing import List\n",
    "\n",
    "\n",
    "def random_calculation():\n",
    "    random_arr: List = []\n",
    "    even: int = 0\n",
    "    random_sum: int = 0\n",
    "    first_max: int = 0\n",
    "    second_max = 0\n",
    "    first_min: int = 100\n",
    "    second_min = 100\n",
    "    for index in range(0, 20):\n",
    "        next_random: int = random.randrange(1, 100)\n",
    "        random_sum += next_random\n",
    "\n",
    "        if next_random > first_max:\n",
    "            second_max = first_max\n",
    "            first_max= next_random\n",
    "        if next_random < first_min:\n",
    "            second_min = first_min\n",
    "            first_min= next_random\n",
    "\n",
    "        if next_random % 2 == 0: even += 1\n",
    "        random_arr.append(next_random)\n",
    "\n",
    "    print(\"List: \", random_arr)\n",
    "    print(\"Max : \", first_max, \"  second first_max \", second_max)\n",
    "    print(\"Min : \", first_min, \"  second first_min \", second_min)\n",
    "    print(\"Even count : \", even, \"  avg of numbers  \", random_sum/len(random_arr))\n",
    "\n",
    "\n",
    "random_calculation()"
   ]
  },
  {
   "cell_type": "markdown",
   "metadata": {},
   "source": [
    "## Zadanie 7 _(10pt)_\n",
    "\n",
    "Załóżmy, że mamy następującą listę: `L = ['aababacaa', 'cabaabcca', 'aaabbcbacb', 'acababbaab', ...]` wygenerowaną losowo tzn. lista zawiera losowe ciągi znaków o zadanej długości z liter `'a'`, `'b'` i `'c'`. Takie wzorce występują w wielu miejscach np. sekwencje DNA. Użytkownik zawiera swój (wzorzec) ciąg znaków z literami i pustymi miejscami oznaczonymi przez `'*'` np. `\"a**a******\"`. Wykorzystaj słownik z kluczami zawierającymi indeksy znaków różnych od `'*'` i wartościami liter z wzorca. Napisz program, który znajduje wszystkie sekwencje z listy, które pasuje do podanego wzorca."
   ]
  },
  {
   "cell_type": "code",
   "execution_count": 7,
   "metadata": {},
   "outputs": [
    {
     "name": "stdout",
     "output_type": "stream",
     "text": [
      "['aababacaa']\n"
     ]
    }
   ],
   "source": [
    "from typing import List\n",
    "\n",
    "\n",
    "def pattern_mather(pattern: str, text_list: List[str]) -> List[str]:\n",
    "    map_dictionary = {}\n",
    "    for i in range(0, len(pattern)):\n",
    "        if pattern[i] is not \"*\":\n",
    "            map_dictionary[i] = pattern[0]\n",
    "\n",
    "    return [string for string in text_list if all(string[i] == c for i, c in map_dictionary.items())]\n",
    "\n",
    "\n",
    "L = ['aababacaa', 'cabaabcca', 'aaabbcbacb', 'acababbaab']\n",
    "my_pattern = \"a**a******\"\n",
    "\n",
    "print(pattern_mather(my_pattern, L))"
   ]
  },
  {
   "cell_type": "markdown",
   "metadata": {},
   "source": [
    "## Zadanie 8 _(10pt)_\n",
    "\n",
    "Napisz program, który konwerteruje liczby rzymskie na liczby arabskie. Do zapisu liczb rzymskich używa\n",
    "się 7 liter: `I=1`, `V=5`, `X=10`, `L=50`, `C=100`, `D=500`, `M=1000`. Opis algorytmu zamiany z i na system rzymski można znaleźć np. [tutaj](http://www.algorytm.org/algorytmy-arytmetyczne/zamiana-z-i-na-system-rzymski.html)"
   ]
  },
  {
   "cell_type": "code",
   "execution_count": 6,
   "metadata": {},
   "outputs": [
    {
     "name": "stdout",
     "output_type": "stream",
     "text": [
      "[0, 1, 3, 1, -3, 1, 3]\n",
      "3060\n"
     ]
    }
   ],
   "source": [
    "def to_arabic(roman: str) -> int:\n",
    "    arabic: List[int] = [1000, 500, 100, 50, 10, 5, 1]\n",
    "    roman_arr: List[chr] = ['M', 'D', 'C', 'L', 'X', 'V', 'I'];\n",
    "    \n",
    "    i: int = 0\n",
    "    j: int = 0\n",
    "    result: int = 0\n",
    "    while j < len(roman) and i < len(arabic):\n",
    "        if roman[j] == roman_arr[i]:\n",
    "            result += arabic[i]\n",
    "            max_occurences[i] -= 1;\n",
    "            j += 1\n",
    "        elif ((i % 2 == 0)\n",
    "              and (i < len(roman_arr)-2)\n",
    "              and (j < len(roman) - 1)\n",
    "              and (roman[j] == roman_arr[i + 2])\n",
    "              and (roman[j + 1] == roman_arr[i])):\n",
    "            result += arabic[i] - arabic[i + 2]\n",
    "            max_occurences[i] -= 1;\n",
    "            max_occurences[i+2] -= 1;\n",
    "            j += 2\n",
    "            i += 1\n",
    "        elif ((i % 2 == 1)\n",
    "              and (i < len(roman_arr) - 1)\n",
    "              and (j < len(roman) - 1)\n",
    "              and (roman[j] == roman_arr[i + 1])\n",
    "              and (roman[j + 1] == roman_arr[i])):\n",
    "            result += arabic[i] - arabic[i + 1]\n",
    "            max_occurences[i] -= 1;\n",
    "            max_occurences[i+1] -= 1;\n",
    "            j += 2\n",
    "            i += 1\n",
    "        else:\n",
    "            i += 1\n",
    "\n",
    "    if i == len(roman_arr):\n",
    "        return -1\n",
    "    return result\n",
    "\n",
    "\n",
    "print(to_arabic('MMMXXXXXX'))"
   ]
  },
  {
   "cell_type": "markdown",
   "metadata": {},
   "source": [
    "## Zadanie 9* _(5pt)_\n",
    "\n",
    "Napisz program kalkulator, który pobiera wprowadzone wartości oraz funkcje z klawiatury następnie podaje wynik. W przypadku błędnych danych zgłasza błąd.\n",
    "\n",
    "Przykładowa sesja:\n",
    "```\n",
    "    Kalkulator\n",
    "    [1]: 2+5*10\n",
    "        52\n",
    "    [2]: sin(0.5)+cos(0.3)\n",
    "        1.434762027729809\n",
    "    [3]: 2^100\n",
    "        1267650600228229401496703205376\n",
    "```\n",
    "\n",
    "Przykładowy kod pobierania danych od użytkownika:\n",
    "\n",
    "```\n",
    "    x = input('Podaj x = ')\n",
    "```"
   ]
  },
  {
   "cell_type": "code",
   "execution_count": 2,
   "metadata": {},
   "outputs": [
    {
     "name": "stdout",
     "output_type": "stream",
     "text": [
      "Enter 'x' to exit\n",
      ">>tan(PI/2)\n",
      "1.633123935319537e+16\n",
      ">>sin(PI/2)\n",
      "1.0\n",
      ">>sin(cos(PI/2))\n",
      "6.123233995736766e-17\n",
      ">>x\n"
     ]
    }
   ],
   "source": [
    "from __future__ import division\n",
    "\n",
    "import math\n",
    "import operator\n",
    "\n",
    "from pyparsing import (Literal, CaselessLiteral, Word, Combine, Group, Optional,\n",
    "                       ZeroOrMore, Forward, nums, alphas, oneOf)\n",
    "\n",
    "class NumericStringParser(object):\n",
    "\n",
    "\n",
    "    def pushFirst(self, strg, loc, toks):\n",
    "        self.exprStack.append(toks[0])\n",
    "\n",
    "    def pushUMinus(self, strg, loc, toks):\n",
    "        if toks and toks[0] == '-':\n",
    "            self.exprStack.append('unary -')\n",
    "\n",
    "    def __init__(self):\n",
    "        \"\"\"\n",
    "        expop   :: '^'\n",
    "        multop  :: '*' | '/'\n",
    "        addop   :: '+' | '-'\n",
    "        integer :: ['+' | '-'] '0'..'9'+\n",
    "        atom    :: PI | E | real | fn '(' expr ')' | '(' expr ')'\n",
    "        factor  :: atom [ expop factor ]*\n",
    "        term    :: factor [ multop factor ]*\n",
    "        expr    :: term [ addop term ]*\n",
    "        \"\"\"\n",
    "        point = Literal(\".\")\n",
    "        e = CaselessLiteral(\"E\")\n",
    "        fnumber = Combine(Word(\"+-\" + nums, nums) +\n",
    "                          Optional(point + Optional(Word(nums))) +\n",
    "                          Optional(e + Word(\"+-\" + nums, nums)))\n",
    "        ident = Word(alphas, alphas + nums + \"_$\")\n",
    "        plus = Literal(\"+\")\n",
    "        minus = Literal(\"-\")\n",
    "        mult = Literal(\"*\")\n",
    "        div = Literal(\"/\")\n",
    "        mod = Literal(\"%\")\n",
    "        lpar = Literal(\"(\").suppress()\n",
    "        rpar = Literal(\")\").suppress()\n",
    "        addop = plus | minus\n",
    "        multop = mult | div | mod\n",
    "        expop = Literal(\"^\")\n",
    "        pi = CaselessLiteral(\"PI\")\n",
    "        expr = Forward()\n",
    "        atom = ((Optional(oneOf(\"- +\")) +\n",
    "                 (ident + lpar + expr + rpar | pi | e | fnumber).setParseAction(self.pushFirst))\n",
    "                | Optional(oneOf(\"- +\")) + Group(lpar + expr + rpar)\n",
    "                ).setParseAction(self.pushUMinus)\n",
    "\n",
    "        factor = Forward()\n",
    "        factor << atom + \\\n",
    "        ZeroOrMore((expop + factor).setParseAction(self.pushFirst))\n",
    "        term = factor + \\\n",
    "               ZeroOrMore((multop + factor).setParseAction(self.pushFirst))\n",
    "        expr << term + \\\n",
    "        ZeroOrMore((addop + term).setParseAction(self.pushFirst))\n",
    "\n",
    "        self.bnf = expr\n",
    "        epsilon = 1e-12\n",
    "        self.opn = {\"+\": operator.add,\n",
    "                    \"-\": operator.sub,\n",
    "                    \"*\": operator.mul,\n",
    "                    \"/\": operator.truediv,\n",
    "                    \"^\": operator.pow,\n",
    "                    \"%\": operator.mod\n",
    "                    }\n",
    "        self.fn = {\"sin\": math.sin,\n",
    "                   \"cos\": math.cos,\n",
    "                   \"tan\": math.tan,\n",
    "                   \"exp\": math.exp,\n",
    "                   \"sqrt\": math.sqrt,\n",
    "                   \"log\": math.log,\n",
    "                   \"log2\": math.log2,\n",
    "                   \"log10\": math.log10,\n",
    "                   \"degrees\": math.degrees,\n",
    "                   \"factorial\": math.factorial,\n",
    "                   \"floor\": math.floor,\n",
    "                   \"gcd\": math.gcd,\n",
    "                   \"abs\": abs,\n",
    "                   \"trunc\": lambda a: int(a),\n",
    "                   \"round\": round,\n",
    "                   \"sgn\": lambda a: abs(a) > epsilon and cmp(a, 0) or 0}\n",
    "\n",
    "    def evaluateStack(self, s):\n",
    "        op = s.pop()\n",
    "        if op == 'unary -':\n",
    "            return -self.evaluateStack(s)\n",
    "        if op in \"+-*/^%\":\n",
    "            op2 = self.evaluateStack(s)\n",
    "            op1 = self.evaluateStack(s)\n",
    "            return self.opn[op](op1, op2)\n",
    "        elif op == \"PI\":\n",
    "            return math.pi  # 3.1415926535        \n",
    "        elif op == \"E\":\n",
    "            return math.e  # 2.718281828\n",
    "        elif op in self.fn:\n",
    "            return self.fn[op](self.evaluateStack(s))\n",
    "        elif op[0].isalpha():\n",
    "            return 0\n",
    "        else:\n",
    "            return float(op)\n",
    "\n",
    "    def eval(self, num_string, parseAll=True):\n",
    "        self.exprStack = []\n",
    "        results = self.bnf.parseString(num_string, parseAll)\n",
    "        val = self.evaluateStack(self.exprStack[:])\n",
    "        return val\n",
    "\n",
    "\n",
    "def calculator() -> None:\n",
    "    nsp = NumericStringParser()\n",
    "    print(\"Enter \\'x\\' to exit\")\n",
    "    while True:\n",
    "        x = input(\">>\")\n",
    "        if x == \"x\":\n",
    "            return\n",
    "        try:\n",
    "            print(nsp.eval(x))\n",
    "        except Exception:\n",
    "            print('Bad formula')\n",
    "\n",
    "\n",
    "calculator()\n"
   ]
  },
  {
   "cell_type": "markdown",
   "metadata": {},
   "source": [
    "\n",
    "## Zadanie 10* _(10pt)_\n",
    "\n",
    "Napisz program, który rysuje na ekranie w trybie znakowym wykres funkcji zmiennej $x$. Wskazówka: utwórz  ,,tablicę dwuwymiarową'' o wymiarach 80x24 i narysuj wykres w tej tablicy. Następnie wynik wyświetl na ekranie.\n",
    "\n",
    "```\n",
    "        Podaj funkcje f(x) = sin(x)\n",
    "        Podaj początek przedziału a = -pi\n",
    "        Podaj koniec przedziału b = pi\n",
    "                                                |\n",
    "                                                |\n",
    "                                                |              ***********\n",
    "                                                |           ***           ***\n",
    "                                                |         **                 **\n",
    "                                                |        *                     *\n",
    "                                                |      **                       **\n",
    "                                                |     *                           *\n",
    "                                                |   **                             **\n",
    "                                                |  *                                 *\n",
    "                                                | *                                   *\n",
    "                                                |*                                     *\n",
    "        ----------------------------------------|---------------------------------------\n",
    "          *                                   * |\n",
    "           *                                 *  |\n",
    "            **                             **   |\n",
    "              *                           *     |\n",
    "               **                       **      |\n",
    "                 *                     *        |\n",
    "                  **                 **         |\n",
    "                    ***           ***           |\n",
    "                       ***** *****              |\n",
    "                            *                   |\n",
    "                                                |\n",
    "```"
   ]
  },
  {
   "cell_type": "code",
   "execution_count": 1,
   "metadata": {},
   "outputs": [
    {
     "name": "stdout",
     "output_type": "stream",
     "text": [
      "                                       |                                       *\n",
      "                                       |                                      * \n",
      "                                       |                                     *  \n",
      "                                       |                                    *   \n",
      "                                       |                                  **    \n",
      "                                       |                                 *      \n",
      "                                       |                               **       \n",
      "                                       |                             **         \n",
      "                                       |                           **           \n",
      "                                       |                        ***             \n",
      "                                       |                    ****                \n",
      "                                       |              ******                    \n",
      "---------------------------------------|----------------------------------------\n",
      "                    ******             |                                        \n",
      "                ****                   |                                        \n",
      "             ***                       |                                        \n",
      "           **                          |                                        \n",
      "         **                            |                                        \n",
      "       **                              |                                        \n",
      "      *                                |                                        \n",
      "    **                                 |                                        \n",
      "   *                                   |                                        \n",
      "  *                                    |                                        \n",
      "**                                     |                                        \n"
     ]
    }
   ],
   "source": [
    "import math\n",
    "\n",
    "\n",
    "def draw_function(screen_width, screen_height):\n",
    "    from numpy import linspace\n",
    "    screen = [[\" \" for _ in range(screen_width)] for _ in range(screen_height)]\n",
    "    f = lambda x: x*x*x\n",
    "    start = -math.pi\n",
    "    end = math.pi\n",
    "    if start >= end:\n",
    "        return \"start >= end !\"\n",
    "    range_length = end - start\n",
    "\n",
    "    f_args = linspace(0, screen_width, num=screen_width)\n",
    "    f_vals = [f(x) for x in linspace(start, end, num=screen_width)]\n",
    "    y_sup = max(f_vals)\n",
    "    y_inf = min(f_vals)\n",
    "    y_length = y_sup - y_inf\n",
    "\n",
    "    for i, val in enumerate(f_vals):\n",
    "        row = screen[math.floor((screen_height - 1) / y_length * (val - y_inf))]\n",
    "        row[i] = \"*\"\n",
    "\n",
    "\n",
    "    y_axis = math.floor((screen_height - 1) / y_length * (0 - y_inf))\n",
    "    if y_axis in range(screen_height):\n",
    "        for i in range(len(screen[y_axis])):\n",
    "            screen[y_axis][i] = \"-\"\n",
    "\n",
    "    x_axis = math.floor((screen_width - 1) / range_length * (0 - start))\n",
    "    if x_axis in range(screen_width):\n",
    "        for row in screen:\n",
    "            row[x_axis] = \"|\"\n",
    "    for row in reversed(screen):\n",
    "        line = \"\".join(row)\n",
    "        print(line)\n",
    "\n",
    "        \n",
    "function = lambda x: math.sqrt(x)        \n",
    "draw_function(80, 24)"
   ]
  },
  {
   "cell_type": "code",
   "execution_count": null,
   "metadata": {},
   "outputs": [],
   "source": []
  }
 ],
 "metadata": {
  "kernelspec": {
   "display_name": "Python 3",
   "language": "python",
   "name": "python3"
  },
  "language_info": {
   "codemirror_mode": {
    "name": "ipython",
    "version": 3
   },
   "file_extension": ".py",
   "mimetype": "text/x-python",
   "name": "python",
   "nbconvert_exporter": "python",
   "pygments_lexer": "ipython3",
   "version": "3.7.3"
  }
 },
 "nbformat": 4,
 "nbformat_minor": 2
}
